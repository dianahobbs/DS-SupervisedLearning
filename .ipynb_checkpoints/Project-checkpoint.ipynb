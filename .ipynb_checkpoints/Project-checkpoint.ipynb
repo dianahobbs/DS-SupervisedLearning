{
 "cells": [
  {
   "cell_type": "markdown",
   "id": "b4d254a2-093d-478b-b531-e4f3ec1d4b94",
   "metadata": {},
   "source": [
    "# Introduction to Data Science Project \n",
    "\n",
    "## Alzheimer Disease: Predicting dementia progression using biomarkers\n",
    "\n",
    "\n",
    "### Introduction\n",
    "What is the paper about? What drew you to it? What are you setting out to discover? \n",
    "\n",
    "### The Data Analysis Pipeline \n",
    "how did you address each of the steps in the pipeline? \n",
    "- data: where did you get the data? is it clean or did it need preprocessing? \n",
    "- exploratory data analysis (EDA): visually explore the data. Look for correlations and patterns. \n",
    "- prepare the data for analysis\n",
    "- analyze the data: Choose the model you use for the question at hand\n",
    "- fine tune the model: after your first attempt to analyzing the data, are there any improvements you can make? better tuning parameters? ensemble methods? \n",
    "- conclusions \n",
    "\n",
    "### Code\n",
    "not line by line, but give a high-level overview of how the code works. Describe any particularly tricky parts. \n",
    "\n",
    "### Conclusions\n",
    "what did you learn? "
   ]
  },
  {
   "cell_type": "markdown",
   "id": "3abd84f7-d727-4d66-83ec-3b86a143377f",
   "metadata": {},
   "source": [
    "# Make a separate file that just has the code alone\n"
   ]
  },
  {
   "cell_type": "code",
   "execution_count": null,
   "id": "d1d8867a-a88d-4098-a357-2bf3af2d0879",
   "metadata": {},
   "outputs": [],
   "source": []
  }
 ],
 "metadata": {
  "kernelspec": {
   "display_name": "Python 3",
   "language": "python",
   "name": "python3"
  },
  "language_info": {
   "codemirror_mode": {
    "name": "ipython",
    "version": 3
   },
   "file_extension": ".py",
   "mimetype": "text/x-python",
   "name": "python",
   "nbconvert_exporter": "python",
   "pygments_lexer": "ipython3",
   "version": "3.8.8"
  }
 },
 "nbformat": 4,
 "nbformat_minor": 5
}
